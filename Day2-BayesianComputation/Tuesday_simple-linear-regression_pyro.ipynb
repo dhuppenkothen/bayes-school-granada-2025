{
 "cells": [
  {
   "cell_type": "markdown",
   "id": "414bdfee",
   "metadata": {},
   "source": [
    "# Linear Regression with PyMC - 2025-05-06\n",
    "This notebook demonstrates how to perform simple linear regression using a fully Bayesian approach with **PyMC**."
   ]
  },
  {
   "cell_type": "code",
   "execution_count": null,
   "id": "2d1aaa7a",
   "metadata": {},
   "outputs": [],
   "source": [
    "# Setup\n",
    "import numpy as np\n",
    "import pandas as pd\n",
    "import matplotlib.pyplot as plt\n",
    "import seaborn as sns\n",
    "sns.set_style(\"whitegrid\")\n",
    "\n",
    "import torch\n",
    "import pyro\n",
    "import pyro.distributions as dist\n",
    "from pyro.infer import MCMC, NUTS\n",
    "\n",
    "import arviz as az\n",
    "np.random.seed(1234)"
   ]
  },
  {
   "cell_type": "markdown",
   "id": "a914635f",
   "metadata": {},
   "source": [
    "## Simulate data"
   ]
  },
  {
   "cell_type": "code",
   "execution_count": null,
   "id": "0a1a5585",
   "metadata": {},
   "outputs": [],
   "source": [
    "x = torch.arange(1, 21)\n",
    "a = 0.2\n",
    "b = 0.3\n",
    "sigma = 0.5\n",
    "epsilon = torch.normal(0.0, sigma, size=(20,))\n",
    "y = a + b * x + epsilon\n",
    "data = pd.DataFrame({'x': x, 'y': y})\n",
    "data.head()"
   ]
  },
  {
   "cell_type": "code",
   "execution_count": null,
   "id": "acc40d0b",
   "metadata": {},
   "outputs": [],
   "source": [
    "fig, ax = plt.subplots(1, 1, figsize=(8,5))\n",
    "\n",
    "ax.errorbar(x, y, yerr=sigma, fmt=\"o\", markersize=5)\n",
    "ax.set_title('Simulated Data')\n",
    "ax.set_xlabel('x')\n",
    "ax.set_ylabel('y')\n"
   ]
  },
  {
   "cell_type": "markdown",
   "id": "2349cdc8",
   "metadata": {},
   "source": [
    "## Bayesian Linear Regression using Pyro"
   ]
  },
  {
   "cell_type": "code",
   "execution_count": null,
   "id": "dc6c8378-0faa-47e0-ad56-07e7e0462c40",
   "metadata": {},
   "outputs": [],
   "source": [
    "x"
   ]
  },
  {
   "cell_type": "code",
   "execution_count": null,
   "id": "88a0c39d-f921-4165-9d31-3c90ad89ac2e",
   "metadata": {},
   "outputs": [],
   "source": [
    "def model(x, y=None):\n",
    "    alpha = pyro.sample(\"alpha\", dist.Normal(loc=0, scale=10))\n",
    "    beta = pyro.sample(\"beta\", dist.Normal(loc=0, scale=10))\n",
    "    sigma = pyro.sample(\"sigma\", dist.HalfNormal(scale=1))\n",
    "\n",
    "    mu = alpha + beta * x\n",
    "    with pyro.plate(\"data\", len(x)):\n",
    "        pyro.sample(\"obs\", dist.Normal(loc=mu, scale=sigma), obs=y)"
   ]
  },
  {
   "cell_type": "code",
   "execution_count": null,
   "id": "ab88e96f-8bf0-4df2-a844-3705e44f6980",
   "metadata": {},
   "outputs": [],
   "source": [
    "pyro.render_model(\n",
    "    model,\n",
    "    model_args=(x,y),\n",
    "    render_distributions=True,\n",
    "    render_params=True\n",
    ")"
   ]
  },
  {
   "cell_type": "code",
   "execution_count": null,
   "id": "a85c4a7f-65cb-4fd5-a33f-828e086e8b19",
   "metadata": {},
   "outputs": [],
   "source": [
    "nuts_kernel = NUTS(model)\n",
    "mcmc = MCMC(nuts_kernel, num_samples=1000, warmup_steps=1000, num_chains=1)\n",
    "# Note: num_chains > 1 does not work in Jupyter notebooks! It's a Jupyter issue related to multi-processing! \n",
    "# For more chains, copy code into a python file and run as a python script.\n",
    "mcmc.run(x, y=y)\n",
    "posterior = mcmc.get_samples()\n",
    "\n",
    "idata = az.from_dict(posterior={k: v.numpy() for k, v in posterior.items()})\n",
    "\n"
   ]
  },
  {
   "cell_type": "markdown",
   "id": "63099306-03bc-4414-9638-562b682ba15d",
   "metadata": {},
   "source": [
    "We can make trace plots for our chain:"
   ]
  },
  {
   "cell_type": "code",
   "execution_count": null,
   "id": "6522444e-e6b5-4d01-b331-e6d5b26b7669",
   "metadata": {},
   "outputs": [],
   "source": [
    "az.plot_trace(mcmc)"
   ]
  },
  {
   "cell_type": "code",
   "execution_count": null,
   "id": "9b6beb52-40bf-45a3-982a-8487e4652b4e",
   "metadata": {},
   "outputs": [],
   "source": [
    "az.summary(idata)"
   ]
  },
  {
   "cell_type": "markdown",
   "id": "2413d868-feff-41d2-a523-899546afe2c6",
   "metadata": {},
   "source": [
    "# posterior"
   ]
  },
  {
   "cell_type": "code",
   "execution_count": null,
   "id": "b37504f0-1de0-4319-b41a-eee6a1df1308",
   "metadata": {},
   "outputs": [],
   "source": [
    "x_vals = torch.linspace(data['x'].min(), data['x'].max(), 100)\n",
    "\n",
    "# Get stacked posterior samples (1D arrays)\n",
    "alpha_samples = posterior['alpha']\n",
    "beta_samples = posterior['beta']\n",
    "\n",
    "# Broadcast across x_vals (outer product-style)\n",
    "y_preds = torch.add(alpha_samples.reshape(len(alpha_samples), 1), torch.outer(beta_samples, x_vals))\n",
    "\n",
    "# Compute summary statistics\n",
    "y_mean = y_preds.mean(axis=0)\n",
    "y_lower = torch.quantile(y_preds, 0.025, axis=0)\n",
    "y_upper = torch.quantile(y_preds, 0.975, axis=0)\n",
    "\n",
    "# Plot\n",
    "plt.figure(figsize=(10, 6))\n",
    "sns.scatterplot(data=data, x='x', y='y', label='Observed Data')\n",
    "plt.plot(x_vals, y_mean, color='blue', label='Posterior Mean')\n",
    "plt.fill_between(x_vals, y_lower, y_upper, color='blue', alpha=0.2, label='95% Credible Interval')\n",
    "plt.title('Bayesian Linear Regression with PyMC')\n",
    "plt.xlabel('x')\n",
    "plt.ylabel('y')\n",
    "plt.grid(True)\n",
    "plt.legend()\n",
    "plt.show()\n"
   ]
  },
  {
   "cell_type": "code",
   "execution_count": null,
   "id": "e7ab38de",
   "metadata": {},
   "outputs": [],
   "source": [
    "az.summary(trace, round_to=2)"
   ]
  },
  {
   "cell_type": "markdown",
   "id": "685ac5c6-12a7-448f-9b34-bc22db1f9e1f",
   "metadata": {},
   "source": [
    "To get posterior predictive samples, we need to uncondition the model on the data:"
   ]
  },
  {
   "cell_type": "code",
   "execution_count": null,
   "id": "62e93091-f9b2-418d-ac44-a4fc8e167077",
   "metadata": {},
   "outputs": [],
   "source": [
    "unconditioned_model = pyro.poutine.uncondition(model)"
   ]
  },
  {
   "cell_type": "code",
   "execution_count": null,
   "id": "b967a841-5138-4de7-8d18-d23db9fc6510",
   "metadata": {},
   "outputs": [],
   "source": [
    "posterior_predictive = pyro.infer.Predictive(unconditioned_model, posterior, num_samples=1000)(x, y)"
   ]
  },
  {
   "cell_type": "code",
   "execution_count": null,
   "id": "609f8215-bcd0-4cba-8654-3b9aa8682724",
   "metadata": {},
   "outputs": [],
   "source": [
    "posterior_predictive"
   ]
  },
  {
   "cell_type": "code",
   "execution_count": null,
   "id": "c5235e06-65f8-48c5-aef4-d9b0c6b1d2e8",
   "metadata": {},
   "outputs": [],
   "source": [
    "fig, ax = plt.subplots(1, 1, figsize=(8,4))\n",
    "\n",
    "ax.plot("
   ]
  },
  {
   "cell_type": "code",
   "execution_count": null,
   "id": "bc8b6b41-d048-4cbe-9010-08c60b2ca51f",
   "metadata": {},
   "outputs": [],
   "source": []
  }
 ],
 "metadata": {
  "kernelspec": {
   "display_name": "Python [conda env:granada-school] *",
   "language": "python",
   "name": "conda-env-granada-school-py"
  },
  "language_info": {
   "codemirror_mode": {
    "name": "ipython",
    "version": 3
   },
   "file_extension": ".py",
   "mimetype": "text/x-python",
   "name": "python",
   "nbconvert_exporter": "python",
   "pygments_lexer": "ipython3",
   "version": "3.12.9"
  }
 },
 "nbformat": 4,
 "nbformat_minor": 5
}
