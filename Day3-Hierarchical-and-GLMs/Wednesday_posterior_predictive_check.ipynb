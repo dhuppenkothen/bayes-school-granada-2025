{
 "cells": [
  {
   "cell_type": "markdown",
   "id": "9e8a9075-0181-49fc-9a0a-4a0f8215a86a",
   "metadata": {},
   "source": [
    "# Assessing Posterior Predictive Plots\n"
   ]
  },
  {
   "cell_type": "code",
   "execution_count": null,
   "id": "0cba4cec-be43-4cde-b360-066e2bdf6752",
   "metadata": {},
   "outputs": [],
   "source": [
    "import matplotlib.pyplot as plt\n",
    "import seaborn as sns\n",
    "sns.set_style(\"white\")\n",
    "\n",
    "import numpy as np \n",
    "import scipy.stats"
   ]
  },
  {
   "cell_type": "markdown",
   "id": "5cb2a8f8-19b1-4574-b86a-c463cdc754a6",
   "metadata": {},
   "source": [
    "\n",
    "### Reminder of set-up for m\\&m's exercise\n",
    "$$P(\\theta|y) = \\frac{P(y|\\theta)P(\\theta)}{P(y)}$$\n",
    "\n",
    "We defined:\n",
    "\n",
    "-  $\\theta$ as the percentage of blue candies made at the factory\n",
    "-  $y$ as the number of blue candies observed in our data\n",
    "\n",
    "The likelihood for our model was the binomial distribution with parameter $\\theta$:\n",
    "\n",
    "$$p(y|\\theta) \\propto \\theta^{y}(1-\\theta)^{n-y}.$$\n",
    "\n",
    "This is our likelihood for $y$ blue candies, given the percentage $\\theta$ produced at the factory.\n",
    "\n",
    "We used the conjugate prior to the binomial distribution --- the beta distribution --- to quantify your prior information on the percentage $\\theta$ of blue candies made at the factory:\n",
    "$$p(\\theta) \\propto \\theta^{\\alpha-1}(1-\\theta)^{\\beta-1}$$\n",
    "We chose some hyperparameter values\n"
   ]
  },
  {
   "cell_type": "code",
   "execution_count": null,
   "id": "0756e8de-330e-4cee-911d-c3bbb00eae11",
   "metadata": {},
   "outputs": [],
   "source": [
    "# my hyperprior parameters for alpha and beta\n",
    "mya =  2 # set value for hyperparameter alpha\n",
    "myb =  6 # set value for hyperparameter beta\n"
   ]
  },
  {
   "cell_type": "markdown",
   "id": "a7d906d7-b647-4de4-8319-eccb87001852",
   "metadata": {},
   "source": [
    "Next, we collected our data, both individually, and as a class.\n"
   ]
  },
  {
   "cell_type": "code",
   "execution_count": null,
   "id": "211fe2e7-ab95-43fa-a620-c5ccdc69b8c8",
   "metadata": {},
   "outputs": [],
   "source": [
    "# record your data before eating it!\n",
    "\n",
    "# total number of trials\n",
    "n = 500\n",
    "\n",
    "########### PLAIN ##################\n",
    "y =  86 # number of blue\n",
    "#nred = \n",
    "#norange = \n",
    "#nyellow = \n",
    "#ngreen = \n",
    "#nbrown = \n",
    "\n",
    "k_all = np.array([3, 2, 4, 1, 5, 3, 2, 3, 2, 3, 3, 2, 6, 3, 4, 3, 4, 1, 2, 3, 2, 3, 1, 3, 2, 4, 3, 3, 2, 1, 4, 6, 3])\n",
    "len_k = len(k_all)\n",
    "n_total = (len_k - 3)*15 + 14 + 22 + 14\n"
   ]
  },
  {
   "cell_type": "markdown",
   "id": "54180cb7-d5c8-412f-91d1-21cdbfbfae6b",
   "metadata": {},
   "source": [
    "We calculated the posterior given your data and your prior distribution, and plotted it:"
   ]
  },
  {
   "cell_type": "code",
   "execution_count": null,
   "id": "46099d8b-e6a5-4a79-a247-7a966803181d",
   "metadata": {},
   "outputs": [],
   "source": [
    "posterior = scipy.stats.beta(y+mya, (n-y+myb))\n",
    "prior = scipy.stats.beta(mya, myb)\n",
    "u = np.linspace(0, 1, 1000)\n",
    "prior_pdf = prior.pdf(u)\n",
    "posterior_pdf = posterior.pdf(u)"
   ]
  },
  {
   "cell_type": "code",
   "execution_count": null,
   "id": "7a194ff8-1482-40d9-969c-72e77877a0f9",
   "metadata": {},
   "outputs": [],
   "source": [
    "fig, ax = plt.subplots(1, 1, figsize=(8,5))\n",
    "\n",
    "ax.plot(u, prior_pdf, color=\"black\", lw=2, label=\"prior\")\n",
    "ax.plot(u, posterior_pdf, color=\"black\", ls=\"dashed\", label=\"posterior probability\")\n",
    "ax.set_xlabel(\"fraction of blue M&Ms produced at the factory\")\n",
    "ax.set_ylabel(\"Probability density\")\n",
    "ax.set_xlim(0, 1)\n",
    "ax.legend();"
   ]
  },
  {
   "cell_type": "markdown",
   "id": "305c1ccb-11b1-4a1f-a4e3-c04bf51c7247",
   "metadata": {},
   "source": [
    "### Exercise\n",
    "\n",
    "Estimate the posterior predictive distribution and compare it to the distribution of successes (blue m&m's) from the class \n",
    "\n",
    "To calculate the posterior predictive distribution, follow these steps:\n",
    "\n",
    " *  draw a random value of $\\theta$ from the posterior\n",
    " *  draw a $y$ (number of blue m&m's) from the likelihood (binomial distribution) given that value of $\\theta$\n",
    " *  Repeat this many times.\n"
   ]
  },
  {
   "cell_type": "code",
   "execution_count": null,
   "id": "932bcc35-0914-4c6e-b131-5727c7b68985",
   "metadata": {},
   "outputs": [],
   "source": [
    "nsims = 500\n",
    "#yfuture = vector(length = nsims)\n",
    "\n",
    "theta_tmp = posterior.rvs(size=nsims)\n",
    "yfuture = scipy.stats.binom(n=15, p=theta_tmp).rvs(size=nsims)"
   ]
  },
  {
   "cell_type": "code",
   "execution_count": null,
   "id": "99353cf0-e410-403a-b06a-efd32cefd655",
   "metadata": {},
   "outputs": [],
   "source": [
    "fig, ax = plt.subplots(1, 1, figsize=(8,5))\n",
    "\n",
    "min_plot = np.min(np.hstack([yfuture, k_all]))\n",
    "max_plot = np.max(np.hstack([yfuture, k_all]))\n",
    "\n",
    "ax.hist(k_all, bins=40, histtype=\"stepfilled\", alpha=0.4, range = [min_plot, max_plot], density=True, label=\"in-class distribution of blue M&Ms\")\n",
    "ax.hist(yfuture, bins=40, histtype=\"stepfilled\", alpha=0.4, range = [min_plot, max_plot], density=True, label=\"posterior predictive\")\n",
    "ax.set_xlabel(\"Number of blue M&Ms out of 15 draws\")\n",
    "ax.set_ylabel(\"Probability density\")\n",
    "ax.legend();\n"
   ]
  }
 ],
 "metadata": {
  "kernelspec": {
   "display_name": "Python [conda env:granada-school] *",
   "language": "python",
   "name": "conda-env-granada-school-py"
  },
  "language_info": {
   "codemirror_mode": {
    "name": "ipython",
    "version": 3
   },
   "file_extension": ".py",
   "mimetype": "text/x-python",
   "name": "python",
   "nbconvert_exporter": "python",
   "pygments_lexer": "ipython3",
   "version": "3.12.9"
  }
 },
 "nbformat": 4,
 "nbformat_minor": 5
}
